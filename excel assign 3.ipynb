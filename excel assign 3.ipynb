{
 "cells": [
  {
   "cell_type": "markdown",
   "id": "1724149b",
   "metadata": {},
   "source": [
    "1)selct the row or column whic we need and click on autosum button.the autosum button is used to calculate the total of a specific set of cells in the rows and columns"
   ]
  },
  {
   "cell_type": "markdown",
   "id": "6491bf22",
   "metadata": {},
   "source": [
    "2)alt+="
   ]
  },
  {
   "cell_type": "markdown",
   "id": "b4312693",
   "metadata": {},
   "source": [
    "3)click on file then we should go to optioms and select formulas then error checking and then click the ignore button"
   ]
  },
  {
   "cell_type": "markdown",
   "id": "04874cd3",
   "metadata": {},
   "source": [
    "4)selct cells then shift+f8"
   ]
  },
  {
   "cell_type": "markdown",
   "id": "ae950992",
   "metadata": {},
   "source": [
    "5)the information of the first cell in a selected column will be replaced with OCW"
   ]
  }
 ],
 "metadata": {
  "kernelspec": {
   "display_name": "Python 3 (ipykernel)",
   "language": "python",
   "name": "python3"
  },
  "language_info": {
   "codemirror_mode": {
    "name": "ipython",
    "version": 3
   },
   "file_extension": ".py",
   "mimetype": "text/x-python",
   "name": "python",
   "nbconvert_exporter": "python",
   "pygments_lexer": "ipython3",
   "version": "3.9.12"
  }
 },
 "nbformat": 4,
 "nbformat_minor": 5
}
